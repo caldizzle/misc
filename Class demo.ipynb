{
 "cells": [
  {
   "cell_type": "code",
   "execution_count": 32,
   "id": "6437f287",
   "metadata": {},
   "outputs": [],
   "source": [
    "class Student():\n",
    "    \n",
    "    def __init__(self, name):\n",
    "        self.grades = []\n",
    "        self.teachers = []\n",
    "        self.name = name\n",
    "        \n",
    "    def addGrade(self, grade):\n",
    "        if grade in ['A', 'B', 'C', 'D', 'F']:\n",
    "            self.grades.append(grade)\n",
    "        else:\n",
    "            print(\"student confused\")\n",
    "            \n",
    "            \n",
    "s = Student(\"Bugs Bunny\")"
   ]
  },
  {
   "cell_type": "code",
   "execution_count": 33,
   "id": "4cf26fea",
   "metadata": {},
   "outputs": [
    {
     "data": {
      "text/plain": [
       "[]"
      ]
     },
     "execution_count": 33,
     "metadata": {},
     "output_type": "execute_result"
    }
   ],
   "source": [
    "s.grades"
   ]
  },
  {
   "cell_type": "code",
   "execution_count": 34,
   "id": "ee758ba7",
   "metadata": {},
   "outputs": [
    {
     "data": {
      "text/plain": [
       "['B']"
      ]
     },
     "execution_count": 34,
     "metadata": {},
     "output_type": "execute_result"
    }
   ],
   "source": [
    "s.addGrade('B')\n",
    "s.grades"
   ]
  },
  {
   "cell_type": "code",
   "execution_count": 38,
   "id": "66a9fc4e",
   "metadata": {},
   "outputs": [
    {
     "name": "stdout",
     "output_type": "stream",
     "text": [
      "student confused\n"
     ]
    },
    {
     "data": {
      "text/plain": [
       "['B']"
      ]
     },
     "execution_count": 38,
     "metadata": {},
     "output_type": "execute_result"
    }
   ],
   "source": [
    "s.addGrade('H')\n",
    "s.grades"
   ]
  },
  {
   "cell_type": "code",
   "execution_count": 5,
   "id": "8f02f077",
   "metadata": {},
   "outputs": [
    {
     "name": "stdout",
     "output_type": "stream",
     "text": [
      "Yay! You did it!\n"
     ]
    }
   ],
   "source": [
    "class Cube():\n",
    "    \n",
    "    def __init__(self):\n",
    "        # 0 = correct, 1 = incorrect orientation\n",
    "        # edge order: U, L, R, D\n",
    "        self.edges = [0, 0, 0, 0]\n",
    "        \n",
    "        # UL = 1, UR = 2, DL = 3, DR = 4\n",
    "        self.corners = [1, 2, 3, 4]\n",
    "    \n",
    "    '''Returns True if cube is solved, False otherwise'''\n",
    "    def isSolved(self):\n",
    "        if self.edges == [0,0,0,0] and self.corners == [1, 2, 3, 4]:\n",
    "            return True\n",
    "        else:\n",
    "            return False\n",
    "    \n",
    "    def U(self):\n",
    "        # swap UL and UR corners\n",
    "        tmp = self.corners[0]\n",
    "        self.corners[0] = self.corners[1]\n",
    "        self.corners[1] = tmp\n",
    "        \n",
    "        # flip U edge\n",
    "        if self.edges[0] == 0:\n",
    "            self.edges[0] = 1\n",
    "        else:\n",
    "            self.edges[0] = 0\n",
    "    \n",
    "    def D(self):\n",
    "        pass\n",
    "    \n",
    "    def R(self):\n",
    "        pass\n",
    "    \n",
    "    def L(self):\n",
    "        pass\n",
    "    \n",
    "    def shuffle(self):\n",
    "        pass\n",
    "        \n",
    "        \n",
    "\n",
    "c = Cube()\n",
    "\n",
    "# run some algorithm of moves\n",
    "# user input moves\n",
    "\n",
    "if c.isSolved():\n",
    "    print('Yay! You did it!')"
   ]
  },
  {
   "cell_type": "code",
   "execution_count": null,
   "id": "66ced3eb",
   "metadata": {},
   "outputs": [],
   "source": []
  },
  {
   "cell_type": "code",
   "execution_count": null,
   "id": "a150f649",
   "metadata": {},
   "outputs": [],
   "source": []
  },
  {
   "cell_type": "code",
   "execution_count": null,
   "id": "9b7403d8",
   "metadata": {},
   "outputs": [],
   "source": []
  },
  {
   "cell_type": "code",
   "execution_count": 2,
   "id": "6cf53f77",
   "metadata": {},
   "outputs": [],
   "source": [
    "from turtle import *"
   ]
  },
  {
   "cell_type": "code",
   "execution_count": 3,
   "id": "a37395c8",
   "metadata": {},
   "outputs": [],
   "source": [
    "color(\"black\", \"green\")\n",
    "begin_fill()\n",
    "for i in range(4):\n",
    "    fd(20)\n",
    "    rt(90)\n",
    "end_fill()"
   ]
  },
  {
   "cell_type": "code",
   "execution_count": 1,
   "id": "96531e53",
   "metadata": {},
   "outputs": [
    {
     "name": "stdout",
     "output_type": "stream",
     "text": [
      "\u001b[H\u001b[2J"
     ]
    }
   ],
   "source": [
    "clear()"
   ]
  }
 ],
 "metadata": {
  "kernelspec": {
   "display_name": "Python 3 (ipykernel)",
   "language": "python",
   "name": "python3"
  },
  "language_info": {
   "codemirror_mode": {
    "name": "ipython",
    "version": 3
   },
   "file_extension": ".py",
   "mimetype": "text/x-python",
   "name": "python",
   "nbconvert_exporter": "python",
   "pygments_lexer": "ipython3",
   "version": "3.8.1"
  }
 },
 "nbformat": 4,
 "nbformat_minor": 5
}
